{
  "nbformat": 4,
  "nbformat_minor": 0,
  "metadata": {
    "colab": {
      "provenance": [],
      "authorship_tag": "ABX9TyMX0V2xsvXdkLdeZEBbx7lH",
      "include_colab_link": true
    },
    "kernelspec": {
      "name": "python3",
      "display_name": "Python 3"
    },
    "language_info": {
      "name": "python"
    }
  },
  "cells": [
    {
      "cell_type": "markdown",
      "metadata": {
        "id": "view-in-github",
        "colab_type": "text"
      },
      "source": [
        "<a href=\"https://colab.research.google.com/github/tdlima/desafio_projeto_py_mongo/blob/main/Desafio_Projeto_Py_Mongo.ipynb\" target=\"_parent\"><img src=\"https://colab.research.google.com/assets/colab-badge.svg\" alt=\"Open In Colab\"/></a>"
      ]
    },
    {
      "cell_type": "code",
      "execution_count": 1,
      "metadata": {
        "id": "Ed93y9E-rkHh"
      },
      "outputs": [],
      "source": [
        "import sqlite3"
      ]
    },
    {
      "cell_type": "code",
      "source": [
        "# Conexão com banco de dados\n",
        "conn = sqlite3.connect('desafio_dio.db')"
      ],
      "metadata": {
        "id": "ydeoCxEVsT-F"
      },
      "execution_count": 2,
      "outputs": []
    },
    {
      "cell_type": "code",
      "source": [
        "# Criando o cursor\n",
        "cursor = conn.cursor()"
      ],
      "metadata": {
        "id": "sGqmZ0wKskaF"
      },
      "execution_count": 3,
      "outputs": []
    },
    {
      "cell_type": "code",
      "source": [
        "# Obter os dados do usuário\n",
        "nome = input(\"Informe o nome do cliente: \")\n",
        "cpf = input(\"Informe o CPF: \")\n",
        "endereco = input(\"Informe o endereço: \")"
      ],
      "metadata": {
        "colab": {
          "base_uri": "https://localhost:8080/"
        },
        "id": "B3VGvToCsuvJ",
        "outputId": "e3cecd6a-95dc-49a5-e881-974499b7d017"
      },
      "execution_count": 4,
      "outputs": [
        {
          "name": "stdout",
          "output_type": "stream",
          "text": [
            "Informe o nome do cliente: Junior Lima\n",
            "Informe o CPF: 06314748623\n",
            "Informe o endereço: rua J, 56, Boa Vista\n"
          ]
        }
      ]
    },
    {
      "cell_type": "code",
      "source": [
        "# Criando a tabela Cliente\n",
        "cursor.execute(\"\"\"\n",
        "    CREATE TABLE IF NOT EXISTS Cliente (\n",
        "        id INTEGER PRIMARY KEY,\n",
        "        Nome TEXT,\n",
        "        cpf TEXT,\n",
        "        endereco TEXT\n",
        "    )\n",
        "\"\"\")"
      ],
      "metadata": {
        "colab": {
          "base_uri": "https://localhost:8080/"
        },
        "id": "qDBXImRFtL2F",
        "outputId": "be098bc1-d847-4ac3-bc17-5108ca12ff60"
      },
      "execution_count": 5,
      "outputs": [
        {
          "output_type": "execute_result",
          "data": {
            "text/plain": [
              "<sqlite3.Cursor at 0x7a334adb45c0>"
            ]
          },
          "metadata": {},
          "execution_count": 5
        }
      ]
    },
    {
      "cell_type": "code",
      "source": [
        "# Realizando a inserção dos dados\n",
        "cursor.execute(\"\"\"\n",
        "    INSERT INTO Cliente (Nome, cpf, endereco)\n",
        "    VALUES (?, ?, ?)\n",
        "\"\"\", (nome, cpf, endereco))"
      ],
      "metadata": {
        "colab": {
          "base_uri": "https://localhost:8080/"
        },
        "id": "KAppsrA1tlZr",
        "outputId": "0817d435-e27a-4d38-c51a-a2206bfc3c17"
      },
      "execution_count": 6,
      "outputs": [
        {
          "output_type": "execute_result",
          "data": {
            "text/plain": [
              "<sqlite3.Cursor at 0x7a334adb45c0>"
            ]
          },
          "metadata": {},
          "execution_count": 6
        }
      ]
    },
    {
      "cell_type": "code",
      "source": [
        "# Comitando as alterações\n",
        "conn.commit()"
      ],
      "metadata": {
        "id": "jDwYI-n0t5oC"
      },
      "execution_count": 7,
      "outputs": []
    },
    {
      "cell_type": "code",
      "source": [
        "# Obter os dados da conta\n",
        "id_cliente = cursor.lastrowid\n",
        "id_conta = input(\"Informe o ID da conta: \")\n",
        "tipo_conta = input(\"Informe o tipo de conta: \")\n",
        "agencia = input(\"Informe a agência: \")\n",
        "numero_conta = input(\"Informe o número da conta: \")\n",
        "saldo = float(input(\"Informe o saldo: \"))"
      ],
      "metadata": {
        "colab": {
          "base_uri": "https://localhost:8080/"
        },
        "id": "Li2tlaFFt_6D",
        "outputId": "7a60f647-806e-464c-e672-202442c14f3a"
      },
      "execution_count": 8,
      "outputs": [
        {
          "name": "stdout",
          "output_type": "stream",
          "text": [
            "Informe o ID da conta: 0312\n",
            "Informe o tipo de conta: C/C\n",
            "Informe a agência: 5624\n",
            "Informe o número da conta: 23540-6\n",
            "Informe o saldo: 500\n"
          ]
        }
      ]
    },
    {
      "cell_type": "code",
      "source": [
        "# Criando a tabela Conta\n",
        "cursor.execute(\"\"\"\n",
        "    CREATE TABLE IF NOT EXISTS Conta (\n",
        "        id_cliente INTEGER,\n",
        "        id TEXT,\n",
        "        tipo TEXT,\n",
        "        agencia TEXT,\n",
        "        numero INTEGER,\n",
        "        saldo DECIMAL,\n",
        "        FOREIGN KEY (id_cliente) REFERENCES Cliente (id)\n",
        "    )\n",
        "\"\"\")\n"
      ],
      "metadata": {
        "colab": {
          "base_uri": "https://localhost:8080/"
        },
        "id": "f78OpBRIuqQO",
        "outputId": "a64ca66c-e147-4481-cdb4-643cc6715e85"
      },
      "execution_count": 9,
      "outputs": [
        {
          "output_type": "execute_result",
          "data": {
            "text/plain": [
              "<sqlite3.Cursor at 0x7a334adb45c0>"
            ]
          },
          "metadata": {},
          "execution_count": 9
        }
      ]
    },
    {
      "cell_type": "code",
      "source": [
        "# Realizando a inserção dos dados na tabela \"Conta\"\n",
        "cursor.execute(\"\"\"\n",
        "    INSERT INTO Conta (id_cliente, id, tipo, agencia, numero, saldo)\n",
        "    VALUES (?, ?, ?, ?, ?, ?)\n",
        "\"\"\", (id_cliente, id_conta, tipo_conta, agencia, numero_conta, saldo))"
      ],
      "metadata": {
        "colab": {
          "base_uri": "https://localhost:8080/"
        },
        "id": "T_6izeTUu88b",
        "outputId": "492f861d-03de-4ff9-ed4a-db744e5c9016"
      },
      "execution_count": 10,
      "outputs": [
        {
          "output_type": "execute_result",
          "data": {
            "text/plain": [
              "<sqlite3.Cursor at 0x7a334adb45c0>"
            ]
          },
          "metadata": {},
          "execution_count": 10
        }
      ]
    },
    {
      "cell_type": "code",
      "source": [
        "# Comitando as alterações\n",
        "conn.commit()"
      ],
      "metadata": {
        "id": "m6OChgk0vOcX"
      },
      "execution_count": 11,
      "outputs": []
    },
    {
      "cell_type": "code",
      "source": [
        "# Realizando consulta nas tabelas\n",
        "cursor.execute('''\n",
        "    SELECT Cliente.*, Conta.*\n",
        "    FROM Cliente\n",
        "    LEFT JOIN Conta ON Cliente.id = Conta.id_cliente\n",
        "''')\n",
        "resultados = cursor.fetchall()"
      ],
      "metadata": {
        "id": "p3cHlhGyvSwA"
      },
      "execution_count": 12,
      "outputs": []
    },
    {
      "cell_type": "code",
      "source": [
        "# Imprimindo os resultados\n",
        "print(\"Dados dos Clientes e suas Contas:\")\n",
        "for resultado in resultados:\n",
        "    print(\"ID do Cliente:\", resultado[0])\n",
        "    print(\"Nome:\", resultado[1])\n",
        "    print(\"CPF:\", resultado[2])\n",
        "    print(\"Endereço:\", resultado[3])\n",
        "    if resultado[4] is not None:\n",
        "        print(\"ID da Conta:\", resultado[5])\n",
        "        print(\"Tipo de Conta:\", resultado[6])\n",
        "        print(\"Agência:\", resultado[7])\n",
        "        print(\"Número da Conta:\", resultado[8])\n",
        "        print(\"Saldo:\", resultado[9])\n",
        "    else:\n",
        "        print(\"Cliente não possui conta associada\")\n",
        "    print(\"-------------------------\")\n"
      ],
      "metadata": {
        "colab": {
          "base_uri": "https://localhost:8080/"
        },
        "id": "5QZRpjP9vouA",
        "outputId": "e5f27f4c-846d-4a27-900c-fdeab2084986"
      },
      "execution_count": 16,
      "outputs": [
        {
          "output_type": "stream",
          "name": "stdout",
          "text": [
            "Dados dos Clientes e suas Contas:\n",
            "ID do Cliente: 1\n",
            "Nome: Junior Lima\n",
            "CPF: 06314748623\n",
            "Endereço: rua J, 56, Boa Vista\n",
            "ID da Conta: 0312\n",
            "Tipo de Conta: C/C\n",
            "Agência: 5624\n",
            "Número da Conta: 23540-6\n",
            "Saldo: 500\n",
            "-------------------------\n"
          ]
        }
      ]
    },
    {
      "cell_type": "code",
      "source": [
        "# Fechando a conexão\n",
        "conn.close()"
      ],
      "metadata": {
        "id": "wtcKSzsKw-kZ"
      },
      "execution_count": 17,
      "outputs": []
    }
  ]
}